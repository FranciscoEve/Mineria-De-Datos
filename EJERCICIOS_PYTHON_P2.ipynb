{
 "cells": [
  {
   "cell_type": "code",
   "execution_count": 3,
   "metadata": {},
   "outputs": [
    {
     "name": "stdout",
     "output_type": "stream",
     "text": [
      "Hola profe, ojala este mi ejercicio bien:)\n",
      "True\n",
      "<class 'complex'>\n",
      "<class 'float'>\n",
      "<class 'str'>\n",
      "<class 'bool'>\n",
      "(8, 3, 16, 87, 45, 2)\n",
      "El primer valor de la tuple es:  8 y el ultimo es:  2\n",
      "[8, 3, 16, 87, 45, 2, 'Hola', 'Como', 'Estás']\n"
     ]
    }
   ],
   "source": [
    "#Crear una variable flotante, integer, boleana y compleja e imprimir el tipo de variable que es.\n",
    "\n",
    "num1 = float(2.45658)\n",
    "print(\"Hola profe, ojala este mi ejercicio bien:)\")\n",
    "print(bool(4 == 3 + 1 > 2))\n",
    "num2 = 7+8j\n",
    "print(type(num2))\n",
    "print(type(num1))\n",
    "print(type(\"Hola profe, ojala este mi ejercicio bien:)\"))\n",
    "print(type(4 == 3 + 1 > 2))\n",
    "\n",
    "#Crear una tupla con valores enteros imprimir el primer y ultimo valor\n",
    "tupla = (8, 3, 16, 87, 45, 2)\n",
    "print(tupla)\n",
    "print(\"El primer valor de la tuple es: \", tupla[0], \"y el ultimo es: \", tupla[5])\n",
    "\n",
    "#Añadir 3 valores de string a la tupla.\n",
    "tuple2 = list(tupla)\n",
    "tuple2.append(\"Hola\")\n",
    "tuple2.append(\"Como\")\n",
    "tuple2.append(\"Estás\")\n",
    "tupla = tuple2\n",
    "print(tuple2)"
   ]
  },
  {
   "cell_type": "code",
   "execution_count": 4,
   "metadata": {},
   "outputs": [
    {
     "name": "stdout",
     "output_type": "stream",
     "text": [
      "Ingrese cuantos numeros aleatorios desea obtener\n",
      "40\n",
      "[264, 307, 366, 892, 755, 779, 259, 437, 112, 328, 636, 800, 196, 398, 863, 908, 23, 564, 836, 386, 539, 372, 397, 418, 319, 669, 511, 852, 170, 360, 76, 87, 658, 505, 323, 816, 248, 367, 148, 39]\n",
      "Los numeros impares son:  [307, 755, 779, 259, 437, 863, 23, 539, 397, 319, 669, 511, 87, 505, 323, 367, 39]\n",
      "Los numeros pares son:  [264, 366, 892, 112, 328, 636, 800, 196, 398, 908, 564, 836, 386, 372, 418, 852, 170, 360, 76, 658, 816, 248, 148]\n",
      "La longitud de la lista de numeros impares es:  17\n",
      "La longitud de la lista de numeros pares es:  23\n",
      "[76, 112, 148, 170, 196, 248, 264, 328, 360, 366, 372, 386, 398, 418, 564, 636, 658, 800, 816, 836, 852, 892, 908]\n"
     ]
    },
    {
     "ename": "NameError",
     "evalue": "name 'true' is not defined",
     "output_type": "error",
     "traceback": [
      "\u001b[1;31m---------------------------------------------------------------------------\u001b[0m",
      "\u001b[1;31mNameError\u001b[0m                                 Traceback (most recent call last)",
      "\u001b[1;32m<ipython-input-4-752a21bdd3aa>\u001b[0m in \u001b[0;36m<module>\u001b[1;34m\u001b[0m\n\u001b[0;32m     46\u001b[0m \u001b[0mprint\u001b[0m\u001b[1;33m(\u001b[0m\u001b[0mpar_ord\u001b[0m\u001b[1;33m)\u001b[0m\u001b[1;33m\u001b[0m\u001b[1;33m\u001b[0m\u001b[0m\n\u001b[0;32m     47\u001b[0m \u001b[1;33m\u001b[0m\u001b[0m\n\u001b[1;32m---> 48\u001b[1;33m \u001b[0mimp_ord\u001b[0m \u001b[1;33m=\u001b[0m \u001b[0msorted\u001b[0m\u001b[1;33m(\u001b[0m\u001b[0mnumeros_impares\u001b[0m\u001b[1;33m,\u001b[0m \u001b[0mreverse\u001b[0m\u001b[1;33m=\u001b[0m\u001b[0mtrue\u001b[0m\u001b[1;33m)\u001b[0m\u001b[1;33m\u001b[0m\u001b[1;33m\u001b[0m\u001b[0m\n\u001b[0m\u001b[0;32m     49\u001b[0m \u001b[0mprint\u001b[0m\u001b[1;33m(\u001b[0m\u001b[0mimp_ord\u001b[0m\u001b[1;33m)\u001b[0m\u001b[1;33m\u001b[0m\u001b[1;33m\u001b[0m\u001b[0m\n\u001b[0;32m     50\u001b[0m \u001b[1;33m\u001b[0m\u001b[0m\n",
      "\u001b[1;31mNameError\u001b[0m: name 'true' is not defined"
     ]
    }
   ],
   "source": [
    "#Crear una lista con 40 elementos aleatorios enteros.\n",
    "import random\n",
    "\n",
    "print(\"Ingrese cuantos numeros aleatorios desea obtener\")\n",
    "n=int(input())\n",
    "aleatorios = [random.randint(0,1000) for _ in range(n)]\n",
    "print(aleatorios)\n",
    "\n",
    "#Con una funcion (def) crear dos listas nuevas a partir de la lista creada por numeros aleatorios, en la cual en una esten los elementos pares, y en la otra los elementos impares.\n",
    "\n",
    "def num_pares (numeros):\n",
    "    pares = []\n",
    "    \n",
    "    for n in (numeros):\n",
    "        if n % 2 == 0:\n",
    "            pares.append(n)\n",
    "        \n",
    "        \n",
    "    return pares\n",
    "\n",
    "def num_impares (numeros):\n",
    "    impares = []\n",
    "    \n",
    "    for n in (numeros):\n",
    "        if n % 2 != 0:\n",
    "            impares.append(n)\n",
    "        \n",
    "        \n",
    "    return impares\n",
    "\n",
    "numeros_pares = num_pares(aleatorios)\n",
    "numeros_impares = num_impares(aleatorios)\n",
    "print(\"Los numeros impares son: \", numeros_impares)\n",
    "print(\"Los numeros pares son: \", numeros_pares)\n",
    "\n",
    "#Crear dos variables con la longitud de ambas listas nuevas e imprimir las variables.\n",
    "\n",
    "long1 = len(numeros_pares)\n",
    "long2 = len(numeros_impares)\n",
    "\n",
    "print(\"La longitud de la lista de numeros impares es: \", long2)\n",
    "print(\"La longitud de la lista de numeros pares es: \", long1)\n",
    "\n",
    "#Ordenar los elementos de la lista par de mayor a menor, y los de la lista impar de menor a mayor.\n",
    "par_ord = sorted(numeros_pares)\n",
    "print(par_ord)\n",
    "\n",
    "imp_ord = sorted(numeros_impares, reverse=true)\n",
    "print(imp_ord)\n",
    "\n",
    "#Utilizar al menos cuatro de las funciones de listas en python en la lista original de 40 elementos.\n",
    "print(len(aleatorios))\n",
    "print(min(aleatorios))\n",
    "print(max(aleatorios))\n",
    "print(sum(aleatorios))\n"
   ]
  },
  {
   "cell_type": "code",
   "execution_count": 7,
   "metadata": {},
   "outputs": [
    {
     "name": "stdout",
     "output_type": "stream",
     "text": [
      " nombre1 -> carlos\n",
      " edad1 -> 30\n",
      " nombre2 -> juan\n",
      " edad2 -> 20\n",
      " nombre3 -> pedro\n",
      " edad3 -> 8\n",
      " nombre4 -> ricardo\n",
      " edad4 -> 13\n",
      " nombre5 -> maria\n",
      " edad5 -> 87\n",
      " nombre6 -> josefa\n",
      " edad6 -> 25\n",
      "Pedro otra vez\n",
      "80\n",
      "jose\n",
      "2\n"
     ]
    }
   ],
   "source": [
    "#Crear un diccionario de 6 personas que conozcas con su primer nombre y su edad.\n",
    "dicc = dict()\n",
    "\n",
    "dicc = {'nombre1': 'carlos', 'edad1': 30,\n",
    "        'nombre2': 'juan', 'edad2': 20,\n",
    "        'nombre3': 'pedro', 'edad3': 8,\n",
    "        'nombre4': 'ricardo', 'edad4': 13,\n",
    "        'nombre5': 'maria', 'edad5': 87,\n",
    "        'nombre6': 'josefa','edad6': 25}\n",
    "\n",
    "for i in dicc.items():\n",
    "    print (\" %s -> %s\" % (i)) \n",
    "    \n",
    "#Añadir dos personas nuevas a tu diccionario, incluyendo edad.\n",
    "dicc['nombre7'] = 'Pedro otra vez'\n",
    "dicc['edad7'] = '80'\n",
    "\n",
    "dicc['nombre8'] = 'jose'\n",
    "dicc['edad8'] = '2'\n",
    "\n",
    "print(dicc['nombre7'])\n",
    "print(dicc['edad7'])\n",
    "\n",
    "print(dicc['nombre8'])\n",
    "print(dicc['edad8'])"
   ]
  },
  {
   "cell_type": "code",
   "execution_count": 8,
   "metadata": {},
   "outputs": [
    {
     "name": "stdout",
     "output_type": "stream",
     "text": [
      "[15, 5, 7, 8, 23, 7, 19, 5, 13, 18, 11, 24, 23, 2, 5, 11, 20, 24, 10, 12, 11, 21, 21, 14, 10, 25, 23, 21, 16, 19, 24, 12, 23, 18, 9, 5, 24, 16, 25, 11, 1, 13, 19, 24, 10, 11, 3, 12, 12, 6, 8, 17, 5, 10, 23, 4, 25, 3, 8, 1, 7, 24, 14, 3, 9, 1, 25, 6, 1, 24, 4, 2, 7, 21, 20, 4, 20, 6, 15, 3, 23, 8, 7, 4, 1, 1, 16, 3, 5, 1, 6, 6, 24, 23, 11, 18, 8, 17, 3, 7]\n",
      "100\n",
      "Ingrese cuantos numeros aleatorios desea obtener\n",
      "5\n",
      "[0, 9, 10, 2, 2]\n",
      "False\n",
      "True\n",
      "True\n",
      "True\n",
      "True\n"
     ]
    }
   ],
   "source": [
    "#Crea un set con 100 numeros aleatorios enteros del 1 al 25.\n",
    "\n",
    "from random import randint \n",
    "\n",
    "num_alea = [randint(1, 25) for _ in range(100)]\n",
    "print(num_alea)\n",
    "\n",
    "#Comprueba la longitud de tu set.\n",
    "print(len(num_alea))\n",
    "\n",
    "#Crea una lista de 5 numeros aleatorios del 1 al 10 y comprueba si cada valor aparece en el set inicial.\n",
    "print(\"Ingrese cuantos numeros aleatorios desea obtener\")\n",
    "n=int(input())\n",
    "aleatorios = [random.randint(0,10) for _ in range(n)]\n",
    "print(aleatorios)\n",
    "\n",
    "print(aleatorios[0] in num_alea)\n",
    "\n",
    "print(aleatorios[1] in num_alea)\n",
    "\n",
    "print(aleatorios[2] in num_alea)\n",
    "\n",
    "print(aleatorios[3] in num_alea)\n",
    "\n",
    "print(aleatorios[4] in num_alea)"
   ]
  },
  {
   "cell_type": "code",
   "execution_count": null,
   "metadata": {},
   "outputs": [],
   "source": []
  }
 ],
 "metadata": {
  "kernelspec": {
   "display_name": "Python 3",
   "language": "python",
   "name": "python3"
  },
  "language_info": {
   "codemirror_mode": {
    "name": "ipython",
    "version": 3
   },
   "file_extension": ".py",
   "mimetype": "text/x-python",
   "name": "python",
   "nbconvert_exporter": "python",
   "pygments_lexer": "ipython3",
   "version": "3.8.5"
  }
 },
 "nbformat": 4,
 "nbformat_minor": 4
}
